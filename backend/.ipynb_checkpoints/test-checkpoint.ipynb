{
 "cells": [
  {
   "cell_type": "code",
   "execution_count": 1,
   "metadata": {},
   "outputs": [],
   "source": [
    "import numpy as np\n",
    "import pandas as pd\n",
    "import matplotlib.pyplot as plt\n",
    "import matplotlib.image as mpimg\n",
    "import json"
   ]
  },
  {
   "cell_type": "code",
   "execution_count": 2,
   "metadata": {},
   "outputs": [
    {
     "data": {
      "text/html": [
       "<div>\n",
       "<style scoped>\n",
       "    .dataframe tbody tr th:only-of-type {\n",
       "        vertical-align: middle;\n",
       "    }\n",
       "\n",
       "    .dataframe tbody tr th {\n",
       "        vertical-align: top;\n",
       "    }\n",
       "\n",
       "    .dataframe thead th {\n",
       "        text-align: right;\n",
       "    }\n",
       "</style>\n",
       "<table border=\"1\" class=\"dataframe\">\n",
       "  <thead>\n",
       "    <tr style=\"text-align: right;\">\n",
       "      <th></th>\n",
       "      <th>label</th>\n",
       "      <th>pixel1</th>\n",
       "      <th>pixel2</th>\n",
       "      <th>pixel3</th>\n",
       "      <th>pixel4</th>\n",
       "      <th>pixel5</th>\n",
       "      <th>pixel6</th>\n",
       "      <th>pixel7</th>\n",
       "      <th>pixel8</th>\n",
       "      <th>pixel9</th>\n",
       "      <th>...</th>\n",
       "      <th>pixel775</th>\n",
       "      <th>pixel776</th>\n",
       "      <th>pixel777</th>\n",
       "      <th>pixel778</th>\n",
       "      <th>pixel779</th>\n",
       "      <th>pixel780</th>\n",
       "      <th>pixel781</th>\n",
       "      <th>pixel782</th>\n",
       "      <th>pixel783</th>\n",
       "      <th>pixel784</th>\n",
       "    </tr>\n",
       "  </thead>\n",
       "  <tbody>\n",
       "    <tr>\n",
       "      <th>0</th>\n",
       "      <td>6</td>\n",
       "      <td>149</td>\n",
       "      <td>149</td>\n",
       "      <td>150</td>\n",
       "      <td>150</td>\n",
       "      <td>150</td>\n",
       "      <td>151</td>\n",
       "      <td>151</td>\n",
       "      <td>150</td>\n",
       "      <td>151</td>\n",
       "      <td>...</td>\n",
       "      <td>138</td>\n",
       "      <td>148</td>\n",
       "      <td>127</td>\n",
       "      <td>89</td>\n",
       "      <td>82</td>\n",
       "      <td>96</td>\n",
       "      <td>106</td>\n",
       "      <td>112</td>\n",
       "      <td>120</td>\n",
       "      <td>107</td>\n",
       "    </tr>\n",
       "    <tr>\n",
       "      <th>1</th>\n",
       "      <td>5</td>\n",
       "      <td>126</td>\n",
       "      <td>128</td>\n",
       "      <td>131</td>\n",
       "      <td>132</td>\n",
       "      <td>133</td>\n",
       "      <td>134</td>\n",
       "      <td>135</td>\n",
       "      <td>135</td>\n",
       "      <td>136</td>\n",
       "      <td>...</td>\n",
       "      <td>47</td>\n",
       "      <td>104</td>\n",
       "      <td>194</td>\n",
       "      <td>183</td>\n",
       "      <td>186</td>\n",
       "      <td>184</td>\n",
       "      <td>184</td>\n",
       "      <td>184</td>\n",
       "      <td>182</td>\n",
       "      <td>180</td>\n",
       "    </tr>\n",
       "    <tr>\n",
       "      <th>2</th>\n",
       "      <td>10</td>\n",
       "      <td>85</td>\n",
       "      <td>88</td>\n",
       "      <td>92</td>\n",
       "      <td>96</td>\n",
       "      <td>105</td>\n",
       "      <td>123</td>\n",
       "      <td>135</td>\n",
       "      <td>143</td>\n",
       "      <td>147</td>\n",
       "      <td>...</td>\n",
       "      <td>68</td>\n",
       "      <td>166</td>\n",
       "      <td>242</td>\n",
       "      <td>227</td>\n",
       "      <td>230</td>\n",
       "      <td>227</td>\n",
       "      <td>226</td>\n",
       "      <td>225</td>\n",
       "      <td>224</td>\n",
       "      <td>222</td>\n",
       "    </tr>\n",
       "    <tr>\n",
       "      <th>3</th>\n",
       "      <td>0</td>\n",
       "      <td>203</td>\n",
       "      <td>205</td>\n",
       "      <td>207</td>\n",
       "      <td>206</td>\n",
       "      <td>207</td>\n",
       "      <td>209</td>\n",
       "      <td>210</td>\n",
       "      <td>209</td>\n",
       "      <td>210</td>\n",
       "      <td>...</td>\n",
       "      <td>154</td>\n",
       "      <td>248</td>\n",
       "      <td>247</td>\n",
       "      <td>248</td>\n",
       "      <td>253</td>\n",
       "      <td>236</td>\n",
       "      <td>230</td>\n",
       "      <td>240</td>\n",
       "      <td>253</td>\n",
       "      <td>255</td>\n",
       "    </tr>\n",
       "    <tr>\n",
       "      <th>4</th>\n",
       "      <td>3</td>\n",
       "      <td>188</td>\n",
       "      <td>191</td>\n",
       "      <td>193</td>\n",
       "      <td>195</td>\n",
       "      <td>199</td>\n",
       "      <td>201</td>\n",
       "      <td>202</td>\n",
       "      <td>203</td>\n",
       "      <td>203</td>\n",
       "      <td>...</td>\n",
       "      <td>26</td>\n",
       "      <td>40</td>\n",
       "      <td>64</td>\n",
       "      <td>48</td>\n",
       "      <td>29</td>\n",
       "      <td>46</td>\n",
       "      <td>49</td>\n",
       "      <td>46</td>\n",
       "      <td>46</td>\n",
       "      <td>53</td>\n",
       "    </tr>\n",
       "  </tbody>\n",
       "</table>\n",
       "<p>5 rows × 785 columns</p>\n",
       "</div>"
      ],
      "text/plain": [
       "   label  pixel1  pixel2  pixel3  pixel4  pixel5  pixel6  pixel7  pixel8  \\\n",
       "0      6     149     149     150     150     150     151     151     150   \n",
       "1      5     126     128     131     132     133     134     135     135   \n",
       "2     10      85      88      92      96     105     123     135     143   \n",
       "3      0     203     205     207     206     207     209     210     209   \n",
       "4      3     188     191     193     195     199     201     202     203   \n",
       "\n",
       "   pixel9  ...  pixel775  pixel776  pixel777  pixel778  pixel779  pixel780  \\\n",
       "0     151  ...       138       148       127        89        82        96   \n",
       "1     136  ...        47       104       194       183       186       184   \n",
       "2     147  ...        68       166       242       227       230       227   \n",
       "3     210  ...       154       248       247       248       253       236   \n",
       "4     203  ...        26        40        64        48        29        46   \n",
       "\n",
       "   pixel781  pixel782  pixel783  pixel784  \n",
       "0       106       112       120       107  \n",
       "1       184       184       182       180  \n",
       "2       226       225       224       222  \n",
       "3       230       240       253       255  \n",
       "4        49        46        46        53  \n",
       "\n",
       "[5 rows x 785 columns]"
      ]
     },
     "execution_count": 2,
     "metadata": {},
     "output_type": "execute_result"
    }
   ],
   "source": [
    "df_train = pd.read_csv(\"/workspaces/American-Sign-Language-Translator-Web-Application/data/sign_mnist_test.csv\")\n",
    "df_train.head()"
   ]
  },
  {
   "cell_type": "code",
   "execution_count": 3,
   "metadata": {},
   "outputs": [
    {
     "name": "stdout",
     "output_type": "stream",
     "text": [
      "                                              Pixels  Labels\n",
      "0  [149, 149, 150, 150, 150, 151, 151, 150, 151, ...       6\n",
      "1  [126, 128, 131, 132, 133, 134, 135, 135, 136, ...       5\n",
      "2  [85, 88, 92, 96, 105, 123, 135, 143, 147, 152,...      10\n",
      "3  [203, 205, 207, 206, 207, 209, 210, 209, 210, ...       0\n",
      "4  [188, 191, 193, 195, 199, 201, 202, 203, 203, ...       3\n"
     ]
    }
   ],
   "source": [
    "\n",
    "#CHANGES BY SAURAV\n",
    "pixels = df_train.to_numpy()[:, 1:]\n",
    "\n",
    "# convert into JSON:\n",
    "def to_json(array):\n",
    "    return json.dumps(array.tolist())\n",
    "\n",
    "json_pixels = []\n",
    "for pixel in pixels:\n",
    "    json_pixels.append(to_json(pixel))\n",
    "\n",
    "label = df_train[\"label\"].values\n",
    "\n",
    "modified_df = pd.DataFrame(zip(json_pixels, label), columns=['Pixels', \"Labels\"])\n",
    "print(modified_df.head())\n"
   ]
  },
  {
   "cell_type": "code",
   "execution_count": null,
   "metadata": {},
   "outputs": [],
   "source": []
  },
  {
   "cell_type": "code",
   "execution_count": 15,
   "metadata": {},
   "outputs": [],
   "source": [
    "\n",
    "\n",
    "df_numpy = df_train.to_numpy()[:, 1:]\n",
    "\n",
    "\n",
    "# df_numpy\n",
    "shape = df_numpy.shape\n",
    "n = shape[0]\n",
    "all_images = df_numpy.reshape((n, 28, 28))\n",
    "\n",
    "# for i in all_images[:10]:\n",
    "#     plt.imshow(i)\n",
    "#     plt.show()\n",
    "# # img = (np.array(df_train.iloc[0][1:])).reshape((28, 28))"
   ]
  },
  {
   "cell_type": "code",
   "execution_count": 6,
   "metadata": {},
   "outputs": [
    {
     "ename": "TypeError",
     "evalue": "'(slice(None, None, None), slice(1, None, None))' is an invalid key",
     "output_type": "error",
     "traceback": [
      "\u001b[0;31m---------------------------------------------------------------------------\u001b[0m",
      "\u001b[0;31mTypeError\u001b[0m                                 Traceback (most recent call last)",
      "Cell \u001b[0;32mIn [6], line 2\u001b[0m\n\u001b[1;32m      1\u001b[0m \u001b[38;5;66;03m# imgplot = plt.imshow(img)\u001b[39;00m\n\u001b[0;32m----> 2\u001b[0m df_train[:,\u001b[38;5;241m1\u001b[39m:]\n",
      "File \u001b[0;32m/usr/local/lib/python3.9/site-packages/pandas/core/frame.py:3024\u001b[0m, in \u001b[0;36mDataFrame.__getitem__\u001b[0;34m(self, key)\u001b[0m\n\u001b[1;32m   3022\u001b[0m \u001b[38;5;28;01mif\u001b[39;00m \u001b[38;5;28mself\u001b[39m\u001b[38;5;241m.\u001b[39mcolumns\u001b[38;5;241m.\u001b[39mnlevels \u001b[38;5;241m>\u001b[39m \u001b[38;5;241m1\u001b[39m:\n\u001b[1;32m   3023\u001b[0m     \u001b[38;5;28;01mreturn\u001b[39;00m \u001b[38;5;28mself\u001b[39m\u001b[38;5;241m.\u001b[39m_getitem_multilevel(key)\n\u001b[0;32m-> 3024\u001b[0m indexer \u001b[38;5;241m=\u001b[39m \u001b[38;5;28;43mself\u001b[39;49m\u001b[38;5;241;43m.\u001b[39;49m\u001b[43mcolumns\u001b[49m\u001b[38;5;241;43m.\u001b[39;49m\u001b[43mget_loc\u001b[49m\u001b[43m(\u001b[49m\u001b[43mkey\u001b[49m\u001b[43m)\u001b[49m\n\u001b[1;32m   3025\u001b[0m \u001b[38;5;28;01mif\u001b[39;00m is_integer(indexer):\n\u001b[1;32m   3026\u001b[0m     indexer \u001b[38;5;241m=\u001b[39m [indexer]\n",
      "File \u001b[0;32m/usr/local/lib/python3.9/site-packages/pandas/core/indexes/base.py:3080\u001b[0m, in \u001b[0;36mIndex.get_loc\u001b[0;34m(self, key, method, tolerance)\u001b[0m\n\u001b[1;32m   3078\u001b[0m casted_key \u001b[38;5;241m=\u001b[39m \u001b[38;5;28mself\u001b[39m\u001b[38;5;241m.\u001b[39m_maybe_cast_indexer(key)\n\u001b[1;32m   3079\u001b[0m \u001b[38;5;28;01mtry\u001b[39;00m:\n\u001b[0;32m-> 3080\u001b[0m     \u001b[38;5;28;01mreturn\u001b[39;00m \u001b[38;5;28;43mself\u001b[39;49m\u001b[38;5;241;43m.\u001b[39;49m\u001b[43m_engine\u001b[49m\u001b[38;5;241;43m.\u001b[39;49m\u001b[43mget_loc\u001b[49m\u001b[43m(\u001b[49m\u001b[43mcasted_key\u001b[49m\u001b[43m)\u001b[49m\n\u001b[1;32m   3081\u001b[0m \u001b[38;5;28;01mexcept\u001b[39;00m \u001b[38;5;167;01mKeyError\u001b[39;00m \u001b[38;5;28;01mas\u001b[39;00m err:\n\u001b[1;32m   3082\u001b[0m     \u001b[38;5;28;01mraise\u001b[39;00m \u001b[38;5;167;01mKeyError\u001b[39;00m(key) \u001b[38;5;28;01mfrom\u001b[39;00m \u001b[38;5;21;01merr\u001b[39;00m\n",
      "File \u001b[0;32mpandas/_libs/index.pyx:70\u001b[0m, in \u001b[0;36mpandas._libs.index.IndexEngine.get_loc\u001b[0;34m()\u001b[0m\n",
      "File \u001b[0;32mpandas/_libs/index.pyx:75\u001b[0m, in \u001b[0;36mpandas._libs.index.IndexEngine.get_loc\u001b[0;34m()\u001b[0m\n",
      "\u001b[0;31mTypeError\u001b[0m: '(slice(None, None, None), slice(1, None, None))' is an invalid key"
     ]
    }
   ],
   "source": [
    "# imgplot = plt.imshow(img)\n",
    "df_train[:,1:]"
   ]
  },
  {
   "cell_type": "code",
   "execution_count": null,
   "metadata": {},
   "outputs": [],
   "source": [
    "# import sqlalchemy\n",
    "# str((all_images[0]))"
   ]
  },
  {
   "cell_type": "code",
   "execution_count": 16,
   "metadata": {},
   "outputs": [
    {
     "data": {
      "text/plain": [
       "'[149, 149, 150, 150, 150, 151, 151, 150, 151, 152, 152, 152, 152, 152, 153, 153, 151, 152, 152, 153, 152, 152, 151, 151, 150, 150, 150, 149, 150, 150, 150, 152, 152, 151, 152, 152, 152, 152, 152, 153, 154, 153, 154, 154, 153, 154, 153, 154, 153, 153, 152, 152, 152, 151, 150, 151, 150, 151, 151, 152, 152, 152, 153, 153, 152, 152, 152, 153, 154, 154, 155, 155, 154, 154, 155, 155, 155, 155, 154, 153, 153, 151, 151, 152, 150, 151, 151, 152, 152, 152, 154, 154, 154, 154, 154, 153, 154, 155, 156, 157, 157, 156, 155, 156, 155, 154, 154, 155, 152, 154, 153, 153, 151, 152, 152, 152, 154, 154, 154, 154, 154, 155, 157, 156, 156, 156, 154, 150, 146, 147, 146, 147, 143, 137, 126, 126, 142, 139, 152, 154, 152, 153, 153, 154, 154, 155, 154, 155, 155, 154, 153, 150, 144, 143, 145, 139, 142, 144, 157, 157, 147, 139, 128, 119, 130, 113, 147, 156, 151, 153, 153, 155, 155, 156, 155, 152, 145, 139, 141, 141, 141, 153, 153, 143, 135, 137, 139, 133, 121, 107, 101, 104, 110, 127, 157, 156, 151, 152, 153, 155, 155, 154, 151, 146, 139, 131, 130, 134, 137, 132, 125, 111, 101, 94, 95, 105, 113, 122, 133, 145, 153, 157, 156, 156, 152, 152, 154, 152, 151, 150, 149, 149, 139, 122, 104, 98, 92, 82, 81, 81, 85, 114, 145, 157, 160, 162, 161, 159, 157, 156, 156, 156, 151, 151, 150, 146, 145, 147, 148, 147, 145, 132, 97, 71, 62, 66, 88, 116, 145, 162, 160, 159, 157, 155, 156, 157, 157, 156, 155, 155, 151, 145, 144, 145, 147, 145, 147, 150, 150, 124, 92, 68, 63, 67, 86, 159, 163, 155, 158, 157, 156, 156, 157, 156, 156, 156, 155, 154, 143, 144, 145, 145, 143, 147, 152, 152, 128, 90, 79, 68, 64, 70, 67, 84, 147, 164, 157, 158, 157, 157, 157, 156, 157, 156, 156, 155, 145, 146, 143, 145, 145, 150, 149, 149, 139, 118, 85, 62, 62, 75, 73, 62, 67, 140, 164, 157, 158, 158, 158, 158, 157, 157, 156, 156, 150, 147, 144, 147, 149, 148, 149, 158, 158, 136, 94, 63, 58, 69, 85, 82, 67, 70, 156, 160, 159, 160, 159, 158, 157, 156, 156, 156, 147, 148, 147, 145, 148, 152, 151, 160, 153, 119, 86, 66, 64, 63, 69, 75, 78, 57, 130, 165, 158, 159, 158, 159, 158, 157, 157, 157, 149, 148, 146, 145, 147, 149, 146, 151, 144, 110, 78, 65, 66, 66, 58, 59, 64, 79, 150, 165, 162, 162, 162, 162, 161, 161, 158, 156, 151, 146, 143, 141, 138, 140, 142, 146, 144, 121, 84, 56, 62, 70, 71, 68, 57, 117, 144, 144, 147, 149, 152, 150, 146, 146, 154, 160, 147, 144, 143, 142, 140, 142, 146, 151, 154, 131, 85, 59, 51, 60, 85, 69, 64, 76, 75, 79, 81, 79, 76, 83, 112, 141, 163, 163, 144, 148, 147, 145, 145, 148, 150, 155, 151, 119, 74, 62, 63, 55, 62, 72, 73, 77, 74, 73, 68, 88, 113, 138, 162, 162, 168, 168, 146, 146, 142, 141, 141, 138, 134, 142, 124, 96, 75, 67, 65, 63, 62, 78, 87, 76, 84, 96, 126, 162, 172, 155, 144, 149, 151, 161, 142, 136, 132, 134, 127, 119, 118, 119, 103, 87, 77, 73, 70, 62, 64, 72, 93, 134, 155, 160, 166, 156, 150, 151, 143, 136, 145, 149, 130, 132, 127, 120, 114, 110, 109, 105, 91, 77, 74, 75, 74, 65, 73, 113, 166, 177, 170, 161, 152, 141, 134, 136, 140, 133, 127, 130, 113, 116, 115, 106, 101, 95, 86, 84, 85, 77, 78, 74, 76, 103, 152, 179, 170, 157, 155, 151, 140, 129, 126, 126, 133, 130, 122, 125, 81, 86, 85, 83, 76, 72, 73, 76, 77, 79, 71, 101, 151, 178, 177, 170, 161, 152, 147, 151, 133, 115, 121, 121, 124, 126, 122, 122, 61, 61, 67, 69, 70, 75, 78, 78, 81, 68, 113, 165, 174, 169, 162, 157, 149, 148, 148, 148, 126, 100, 113, 117, 113, 122, 118, 115, 69, 69, 77, 78, 75, 76, 78, 79, 67, 120, 173, 157, 159, 148, 155, 150, 138, 143, 148, 149, 123, 91, 101, 111, 111, 116, 113, 118, 74, 75, 76, 75, 75, 76, 75, 68, 124, 172, 152, 146, 146, 146, 152, 142, 131, 134, 144, 147, 125, 87, 87, 103, 107, 110, 116, 113, 75, 74, 74, 74, 76, 74, 82, 134, 168, 155, 146, 137, 145, 146, 149, 135, 124, 125, 138, 148, 127, 89, 82, 96, 106, 112, 120, 107]'"
      ]
     },
     "execution_count": 16,
     "metadata": {},
     "output_type": "execute_result"
    }
   ],
   "source": [
    "(str(list(df_numpy[0])))\n",
    "\n"
   ]
  },
  {
   "cell_type": "code",
   "execution_count": 17,
   "metadata": {},
   "outputs": [],
   "source": [
    "import json\n",
    "\n",
    "def combine_cols(x):\n",
    "    print(x)\n",
    "    return list(x)[1:]"
   ]
  },
  {
   "cell_type": "code",
   "execution_count": 18,
   "metadata": {},
   "outputs": [
    {
     "ename": "ValueError",
     "evalue": "Data must be 1-dimensional",
     "output_type": "error",
     "traceback": [
      "\u001b[0;31m---------------------------------------------------------------------------\u001b[0m",
      "\u001b[0;31mValueError\u001b[0m                                Traceback (most recent call last)",
      "Cell \u001b[0;32mIn [18], line 7\u001b[0m\n\u001b[1;32m      3\u001b[0m df_new_tain[\u001b[39m'\u001b[39m\u001b[39mlabel\u001b[39m\u001b[39m'\u001b[39m] \u001b[39m=\u001b[39m df_train[\u001b[39m'\u001b[39m\u001b[39mlabel\u001b[39m\u001b[39m'\u001b[39m]\n\u001b[1;32m      5\u001b[0m \u001b[39m# df_train.apply()\u001b[39;00m\n\u001b[0;32m----> 7\u001b[0m pd\u001b[39m.\u001b[39;49mSeries(df_numpy)\n",
      "File \u001b[0;32m~/.local/lib/python3.10/site-packages/pandas/core/series.py:470\u001b[0m, in \u001b[0;36mSeries.__init__\u001b[0;34m(self, data, index, dtype, name, copy, fastpath)\u001b[0m\n\u001b[1;32m    468\u001b[0m         data \u001b[39m=\u001b[39m data\u001b[39m.\u001b[39mcopy()\n\u001b[1;32m    469\u001b[0m \u001b[39melse\u001b[39;00m:\n\u001b[0;32m--> 470\u001b[0m     data \u001b[39m=\u001b[39m sanitize_array(data, index, dtype, copy)\n\u001b[1;32m    472\u001b[0m     manager \u001b[39m=\u001b[39m get_option(\u001b[39m\"\u001b[39m\u001b[39mmode.data_manager\u001b[39m\u001b[39m\"\u001b[39m)\n\u001b[1;32m    473\u001b[0m     \u001b[39mif\u001b[39;00m manager \u001b[39m==\u001b[39m \u001b[39m\"\u001b[39m\u001b[39mblock\u001b[39m\u001b[39m\"\u001b[39m:\n",
      "File \u001b[0;32m~/.local/lib/python3.10/site-packages/pandas/core/construction.py:647\u001b[0m, in \u001b[0;36msanitize_array\u001b[0;34m(data, index, dtype, copy, raise_cast_failure, allow_2d)\u001b[0m\n\u001b[1;32m    644\u001b[0m             subarr \u001b[39m=\u001b[39m cast(np\u001b[39m.\u001b[39mndarray, subarr)\n\u001b[1;32m    645\u001b[0m             subarr \u001b[39m=\u001b[39m maybe_infer_to_datetimelike(subarr)\n\u001b[0;32m--> 647\u001b[0m subarr \u001b[39m=\u001b[39m _sanitize_ndim(subarr, data, dtype, index, allow_2d\u001b[39m=\u001b[39;49mallow_2d)\n\u001b[1;32m    649\u001b[0m \u001b[39mif\u001b[39;00m \u001b[39misinstance\u001b[39m(subarr, np\u001b[39m.\u001b[39mndarray):\n\u001b[1;32m    650\u001b[0m     \u001b[39m# at this point we should have dtype be None or subarr.dtype == dtype\u001b[39;00m\n\u001b[1;32m    651\u001b[0m     dtype \u001b[39m=\u001b[39m cast(np\u001b[39m.\u001b[39mdtype, dtype)\n",
      "File \u001b[0;32m~/.local/lib/python3.10/site-packages/pandas/core/construction.py:698\u001b[0m, in \u001b[0;36m_sanitize_ndim\u001b[0;34m(result, data, dtype, index, allow_2d)\u001b[0m\n\u001b[1;32m    696\u001b[0m     \u001b[39mif\u001b[39;00m allow_2d:\n\u001b[1;32m    697\u001b[0m         \u001b[39mreturn\u001b[39;00m result\n\u001b[0;32m--> 698\u001b[0m     \u001b[39mraise\u001b[39;00m \u001b[39mValueError\u001b[39;00m(\u001b[39m\"\u001b[39m\u001b[39mData must be 1-dimensional\u001b[39m\u001b[39m\"\u001b[39m)\n\u001b[1;32m    699\u001b[0m \u001b[39mif\u001b[39;00m is_object_dtype(dtype) \u001b[39mand\u001b[39;00m \u001b[39misinstance\u001b[39m(dtype, ExtensionDtype):\n\u001b[1;32m    700\u001b[0m     \u001b[39m# i.e. PandasDtype(\"O\")\u001b[39;00m\n\u001b[1;32m    702\u001b[0m     result \u001b[39m=\u001b[39m com\u001b[39m.\u001b[39masarray_tuplesafe(data, dtype\u001b[39m=\u001b[39mnp\u001b[39m.\u001b[39mdtype(\u001b[39m\"\u001b[39m\u001b[39mobject\u001b[39m\u001b[39m\"\u001b[39m))\n",
      "\u001b[0;31mValueError\u001b[0m: Data must be 1-dimensional"
     ]
    }
   ],
   "source": [
    "# df_train.to_json()\n",
    "df_new_tain = pd.DataFrame()\n",
    "df_new_tain['label'] = df_train['label']\n",
    "\n",
    "# df_train.apply()\n",
    "\n",
    "pd.Series(df_numpy)\n",
    "\n",
    "\n"
   ]
  },
  {
   "cell_type": "code",
   "execution_count": null,
   "metadata": {},
   "outputs": [],
   "source": []
  }
 ],
 "metadata": {
  "kernelspec": {
   "display_name": "Python 3.10.4 64-bit",
   "language": "python",
   "name": "python3"
  },
  "language_info": {
   "codemirror_mode": {
    "name": "ipython",
    "version": 3
   },
   "file_extension": ".py",
   "mimetype": "text/x-python",
   "name": "python",
   "nbconvert_exporter": "python",
   "pygments_lexer": "ipython3",
   "version": "3.10.4"
  },
  "vscode": {
   "interpreter": {
    "hash": "3ad933181bd8a04b432d3370b9dc3b0662ad032c4dfaa4e4f1596c548f763858"
   }
  }
 },
 "nbformat": 4,
 "nbformat_minor": 2
}
