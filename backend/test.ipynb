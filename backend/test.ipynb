{
 "cells": [
  {
   "cell_type": "code",
   "execution_count": 2,
   "metadata": {},
   "outputs": [],
   "source": [
    "import numpy as np\n",
    "import pandas as pd\n",
    "import matplotlib.pyplot as plt\n",
    "import matplotlib.image as mpimg"
   ]
  },
  {
   "cell_type": "code",
   "execution_count": 4,
   "metadata": {},
   "outputs": [
    {
     "data": {
      "text/html": [
       "<div>\n",
       "<style scoped>\n",
       "    .dataframe tbody tr th:only-of-type {\n",
       "        vertical-align: middle;\n",
       "    }\n",
       "\n",
       "    .dataframe tbody tr th {\n",
       "        vertical-align: top;\n",
       "    }\n",
       "\n",
       "    .dataframe thead th {\n",
       "        text-align: right;\n",
       "    }\n",
       "</style>\n",
       "<table border=\"1\" class=\"dataframe\">\n",
       "  <thead>\n",
       "    <tr style=\"text-align: right;\">\n",
       "      <th></th>\n",
       "      <th>label</th>\n",
       "      <th>pixel1</th>\n",
       "      <th>pixel2</th>\n",
       "      <th>pixel3</th>\n",
       "      <th>pixel4</th>\n",
       "      <th>pixel5</th>\n",
       "      <th>pixel6</th>\n",
       "      <th>pixel7</th>\n",
       "      <th>pixel8</th>\n",
       "      <th>pixel9</th>\n",
       "      <th>...</th>\n",
       "      <th>pixel775</th>\n",
       "      <th>pixel776</th>\n",
       "      <th>pixel777</th>\n",
       "      <th>pixel778</th>\n",
       "      <th>pixel779</th>\n",
       "      <th>pixel780</th>\n",
       "      <th>pixel781</th>\n",
       "      <th>pixel782</th>\n",
       "      <th>pixel783</th>\n",
       "      <th>pixel784</th>\n",
       "    </tr>\n",
       "  </thead>\n",
       "  <tbody>\n",
       "    <tr>\n",
       "      <th>0</th>\n",
       "      <td>3</td>\n",
       "      <td>107</td>\n",
       "      <td>118</td>\n",
       "      <td>127</td>\n",
       "      <td>134</td>\n",
       "      <td>139</td>\n",
       "      <td>143</td>\n",
       "      <td>146</td>\n",
       "      <td>150</td>\n",
       "      <td>153</td>\n",
       "      <td>...</td>\n",
       "      <td>207</td>\n",
       "      <td>207</td>\n",
       "      <td>207</td>\n",
       "      <td>207</td>\n",
       "      <td>206</td>\n",
       "      <td>206</td>\n",
       "      <td>206</td>\n",
       "      <td>204</td>\n",
       "      <td>203</td>\n",
       "      <td>202</td>\n",
       "    </tr>\n",
       "    <tr>\n",
       "      <th>1</th>\n",
       "      <td>6</td>\n",
       "      <td>155</td>\n",
       "      <td>157</td>\n",
       "      <td>156</td>\n",
       "      <td>156</td>\n",
       "      <td>156</td>\n",
       "      <td>157</td>\n",
       "      <td>156</td>\n",
       "      <td>158</td>\n",
       "      <td>158</td>\n",
       "      <td>...</td>\n",
       "      <td>69</td>\n",
       "      <td>149</td>\n",
       "      <td>128</td>\n",
       "      <td>87</td>\n",
       "      <td>94</td>\n",
       "      <td>163</td>\n",
       "      <td>175</td>\n",
       "      <td>103</td>\n",
       "      <td>135</td>\n",
       "      <td>149</td>\n",
       "    </tr>\n",
       "    <tr>\n",
       "      <th>2</th>\n",
       "      <td>2</td>\n",
       "      <td>187</td>\n",
       "      <td>188</td>\n",
       "      <td>188</td>\n",
       "      <td>187</td>\n",
       "      <td>187</td>\n",
       "      <td>186</td>\n",
       "      <td>187</td>\n",
       "      <td>188</td>\n",
       "      <td>187</td>\n",
       "      <td>...</td>\n",
       "      <td>202</td>\n",
       "      <td>201</td>\n",
       "      <td>200</td>\n",
       "      <td>199</td>\n",
       "      <td>198</td>\n",
       "      <td>199</td>\n",
       "      <td>198</td>\n",
       "      <td>195</td>\n",
       "      <td>194</td>\n",
       "      <td>195</td>\n",
       "    </tr>\n",
       "    <tr>\n",
       "      <th>3</th>\n",
       "      <td>2</td>\n",
       "      <td>211</td>\n",
       "      <td>211</td>\n",
       "      <td>212</td>\n",
       "      <td>212</td>\n",
       "      <td>211</td>\n",
       "      <td>210</td>\n",
       "      <td>211</td>\n",
       "      <td>210</td>\n",
       "      <td>210</td>\n",
       "      <td>...</td>\n",
       "      <td>235</td>\n",
       "      <td>234</td>\n",
       "      <td>233</td>\n",
       "      <td>231</td>\n",
       "      <td>230</td>\n",
       "      <td>226</td>\n",
       "      <td>225</td>\n",
       "      <td>222</td>\n",
       "      <td>229</td>\n",
       "      <td>163</td>\n",
       "    </tr>\n",
       "    <tr>\n",
       "      <th>4</th>\n",
       "      <td>13</td>\n",
       "      <td>164</td>\n",
       "      <td>167</td>\n",
       "      <td>170</td>\n",
       "      <td>172</td>\n",
       "      <td>176</td>\n",
       "      <td>179</td>\n",
       "      <td>180</td>\n",
       "      <td>184</td>\n",
       "      <td>185</td>\n",
       "      <td>...</td>\n",
       "      <td>92</td>\n",
       "      <td>105</td>\n",
       "      <td>105</td>\n",
       "      <td>108</td>\n",
       "      <td>133</td>\n",
       "      <td>163</td>\n",
       "      <td>157</td>\n",
       "      <td>163</td>\n",
       "      <td>164</td>\n",
       "      <td>179</td>\n",
       "    </tr>\n",
       "  </tbody>\n",
       "</table>\n",
       "<p>5 rows × 785 columns</p>\n",
       "</div>"
      ],
      "text/plain": [
       "   label  pixel1  pixel2  pixel3  pixel4  pixel5  pixel6  pixel7  pixel8  \\\n",
       "0      3     107     118     127     134     139     143     146     150   \n",
       "1      6     155     157     156     156     156     157     156     158   \n",
       "2      2     187     188     188     187     187     186     187     188   \n",
       "3      2     211     211     212     212     211     210     211     210   \n",
       "4     13     164     167     170     172     176     179     180     184   \n",
       "\n",
       "   pixel9  ...  pixel775  pixel776  pixel777  pixel778  pixel779  pixel780  \\\n",
       "0     153  ...       207       207       207       207       206       206   \n",
       "1     158  ...        69       149       128        87        94       163   \n",
       "2     187  ...       202       201       200       199       198       199   \n",
       "3     210  ...       235       234       233       231       230       226   \n",
       "4     185  ...        92       105       105       108       133       163   \n",
       "\n",
       "   pixel781  pixel782  pixel783  pixel784  \n",
       "0       206       204       203       202  \n",
       "1       175       103       135       149  \n",
       "2       198       195       194       195  \n",
       "3       225       222       229       163  \n",
       "4       157       163       164       179  \n",
       "\n",
       "[5 rows x 785 columns]"
      ]
     },
     "execution_count": 4,
     "metadata": {},
     "output_type": "execute_result"
    }
   ],
   "source": [
    "df_train = pd.read_csv(\"/Users/pranshul/Desktop/American-Sign-Language-Translator-Web-Application/data/sign_mnist_train.csv\")\n",
    "df_train.head()"
   ]
  },
  {
   "cell_type": "code",
   "execution_count": 5,
   "metadata": {},
   "outputs": [],
   "source": [
    "label = df_train.to_numpy()[:, :1]\n",
    "\n",
    "df_numpy = df_train.to_numpy()[:, 1:]\n",
    "# df_numpy\n",
    "shape = df_numpy.shape\n",
    "n = shape[0]\n",
    "all_images = df_numpy.reshape((n, 28, 28))\n",
    "\n",
    "# for i in all_images[:10]:\n",
    "#     plt.imshow(i)\n",
    "#     plt.show()\n",
    "# # img = (np.array(df_train.iloc[0][1:])).reshape((28, 28))"
   ]
  },
  {
   "cell_type": "code",
   "execution_count": 6,
   "metadata": {},
   "outputs": [],
   "source": [
    "# imgplot = plt.imshow(img)\n"
   ]
  },
  {
   "cell_type": "code",
   "execution_count": 7,
   "metadata": {},
   "outputs": [],
   "source": [
    "# import sqlalchemy\n",
    "# str((all_images[0]))"
   ]
  },
  {
   "cell_type": "code",
   "execution_count": 8,
   "metadata": {},
   "outputs": [
    {
     "data": {
      "text/plain": [
       "'[107, 118, 127, 134, 139, 143, 146, 150, 153, 156, 158, 160, 163, 165, 159, 166, 168, 170, 170, 171, 171, 171, 172, 171, 171, 170, 170, 169, 111, 121, 129, 135, 141, 144, 148, 151, 154, 157, 160, 163, 164, 170, 119, 152, 171, 171, 170, 171, 172, 172, 172, 172, 172, 171, 171, 170, 113, 123, 131, 137, 142, 145, 150, 152, 155, 158, 161, 163, 164, 172, 105, 142, 170, 171, 171, 171, 172, 172, 173, 173, 172, 171, 171, 171, 116, 125, 133, 139, 143, 146, 151, 153, 156, 159, 162, 163, 167, 167, 95, 144, 171, 172, 172, 172, 172, 172, 173, 173, 173, 172, 172, 171, 117, 126, 134, 140, 145, 149, 153, 156, 158, 161, 163, 164, 175, 156, 87, 154, 172, 173, 173, 173, 173, 173, 174, 174, 174, 173, 172, 172, 119, 128, 136, 142, 146, 150, 153, 156, 159, 163, 165, 164, 184, 148, 89, 164, 172, 174, 174, 174, 174, 175, 175, 174, 175, 174, 173, 173, 122, 130, 138, 143, 147, 150, 154, 158, 162, 165, 166, 172, 181, 128, 94, 170, 173, 175, 174, 175, 176, 177, 177, 177, 177, 175, 175, 174, 122, 132, 139, 145, 149, 152, 156, 160, 163, 165, 166, 181, 172, 103, 113, 175, 176, 178, 178, 179, 179, 179, 179, 178, 179, 177, 175, 174, 125, 134, 141, 147, 150, 153, 157, 161, 164, 167, 168, 184, 179, 116, 126, 165, 176, 179, 180, 180, 181, 180, 180, 180, 179, 178, 177, 176, 128, 135, 142, 148, 152, 154, 158, 162, 165, 168, 170, 187, 180, 156, 161, 124, 143, 179, 178, 178, 181, 182, 181, 180, 181, 180, 179, 179, 129, 136, 144, 150, 153, 155, 159, 163, 166, 169, 172, 187, 184, 153, 102, 117, 110, 175, 169, 154, 182, 183, 183, 182, 182, 181, 181, 179, 131, 138, 145, 150, 155, 157, 161, 165, 168, 174, 190, 189, 175, 146, 94, 97, 113, 151, 158, 129, 184, 184, 184, 184, 183, 183, 182, 180, 131, 139, 146, 151, 155, 159, 163, 167, 175, 182, 179, 171, 159, 114, 102, 89, 121, 136, 136, 96, 172, 186, 186, 185, 185, 184, 182, 181, 131, 140, 147, 154, 157, 160, 164, 179, 186, 191, 187, 180, 157, 100, 88, 84, 108, 111, 126, 90, 120, 186, 187, 187, 186, 185, 184, 182, 133, 141, 149, 155, 158, 160, 174, 201, 189, 165, 151, 143, 146, 120, 87, 78, 87, 76, 108, 98, 96, 181, 188, 187, 186, 186, 185, 183, 133, 141, 150, 156, 160, 161, 179, 197, 174, 135, 99, 72, 95, 134, 97, 72, 74, 68, 116, 105, 108, 187, 189, 187, 187, 186, 186, 185, 134, 143, 151, 156, 161, 163, 179, 194, 156, 110, 74, 42, 52, 139, 94, 67, 75, 75, 118, 106, 129, 189, 191, 190, 188, 188, 187, 186, 135, 144, 152, 158, 163, 163, 177, 193, 161, 122, 84, 43, 71, 134, 81, 57, 71, 88, 112, 98, 157, 193, 193, 192, 190, 190, 189, 188, 136, 144, 152, 158, 162, 163, 176, 192, 164, 128, 98, 62, 60, 100, 71, 76, 96, 101, 105, 95, 174, 195, 194, 194, 194, 193, 191, 190, 137, 145, 152, 159, 164, 165, 178, 191, 164, 135, 113, 82, 59, 87, 98, 111, 120, 108, 97, 108, 190, 196, 195, 195, 194, 193, 193, 192, 139, 146, 154, 160, 164, 165, 175, 186, 163, 139, 112, 85, 67, 102, 126, 133, 126, 105, 104, 176, 197, 198, 197, 196, 195, 195, 194, 193, 138, 147, 155, 161, 165, 167, 172, 186, 163, 137, 107, 87, 76, 106, 122, 125, 117, 96, 156, 199, 199, 200, 198, 196, 196, 195, 195, 194, 139, 148, 156, 163, 166, 168, 172, 180, 158, 131, 108, 99, 86, 108, 118, 116, 103, 107, 191, 202, 201, 200, 200, 200, 199, 197, 198, 196, 140, 149, 157, 164, 168, 167, 177, 178, 155, 131, 118, 105, 87, 100, 106, 100, 96, 164, 202, 202, 202, 202, 202, 201, 200, 199, 199, 198, 140, 150, 157, 165, 167, 170, 181, 175, 152, 130, 115, 98, 82, 85, 90, 99, 165, 202, 203, 204, 203, 203, 202, 202, 201, 201, 200, 200, 142, 150, 159, 165, 170, 191, 173, 157, 144, 119, 97, 84, 79, 79, 91, 172, 202, 203, 203, 205, 204, 204, 204, 203, 202, 202, 201, 200, 142, 151, 160, 165, 188, 190, 187, 150, 119, 109, 85, 79, 79, 78, 137, 203, 205, 206, 206, 207, 207, 206, 206, 204, 205, 204, 203, 202, 142, 151, 160, 172, 196, 188, 188, 190, 135, 96, 86, 77, 77, 79, 176, 205, 207, 207, 207, 207, 207, 207, 206, 206, 206, 204, 203, 202]'"
      ]
     },
     "execution_count": 8,
     "metadata": {},
     "output_type": "execute_result"
    }
   ],
   "source": [
    "(str(list(df_numpy[0])))\n",
    "\n"
   ]
  },
  {
   "cell_type": "code",
   "execution_count": 33,
   "metadata": {},
   "outputs": [],
   "source": [
    "import json\n",
    "\n",
    "def combine_cols(x):\n",
    "    print(x)\n",
    "    return list(x)[1:]"
   ]
  },
  {
   "cell_type": "code",
   "execution_count": 35,
   "metadata": {},
   "outputs": [
    {
     "ename": "ValueError",
     "evalue": "Data must be 1-dimensional",
     "output_type": "error",
     "traceback": [
      "\u001b[0;31m---------------------------------------------------------------------------\u001b[0m",
      "\u001b[0;31mValueError\u001b[0m                                Traceback (most recent call last)",
      "\u001b[1;32m/Users/pranshul/Desktop/American-Sign-Language-Translator-Web-Application/backend/test.ipynb Cell 8\u001b[0m in \u001b[0;36m<cell line: 7>\u001b[0;34m()\u001b[0m\n\u001b[1;32m      <a href='vscode-notebook-cell:/Users/pranshul/Desktop/American-Sign-Language-Translator-Web-Application/backend/test.ipynb#X11sZmlsZQ%3D%3D?line=2'>3</a>\u001b[0m df_new_tain[\u001b[39m'\u001b[39m\u001b[39mlabel\u001b[39m\u001b[39m'\u001b[39m] \u001b[39m=\u001b[39m df_train[\u001b[39m'\u001b[39m\u001b[39mlabel\u001b[39m\u001b[39m'\u001b[39m]\n\u001b[1;32m      <a href='vscode-notebook-cell:/Users/pranshul/Desktop/American-Sign-Language-Translator-Web-Application/backend/test.ipynb#X11sZmlsZQ%3D%3D?line=4'>5</a>\u001b[0m \u001b[39m# df_train.apply()\u001b[39;00m\n\u001b[0;32m----> <a href='vscode-notebook-cell:/Users/pranshul/Desktop/American-Sign-Language-Translator-Web-Application/backend/test.ipynb#X11sZmlsZQ%3D%3D?line=6'>7</a>\u001b[0m pd\u001b[39m.\u001b[39;49mSeries(df_numpy)\n",
      "File \u001b[0;32m/opt/homebrew/lib/python3.9/site-packages/pandas/core/series.py:364\u001b[0m, in \u001b[0;36mSeries.__init__\u001b[0;34m(self, data, index, dtype, name, copy, fastpath)\u001b[0m\n\u001b[1;32m    362\u001b[0m             data \u001b[39m=\u001b[39m data\u001b[39m.\u001b[39mcopy()\n\u001b[1;32m    363\u001b[0m     \u001b[39melse\u001b[39;00m:\n\u001b[0;32m--> 364\u001b[0m         data \u001b[39m=\u001b[39m sanitize_array(data, index, dtype, copy, raise_cast_failure\u001b[39m=\u001b[39;49m\u001b[39mTrue\u001b[39;49;00m)\n\u001b[1;32m    366\u001b[0m         data \u001b[39m=\u001b[39m SingleBlockManager\u001b[39m.\u001b[39mfrom_array(data, index)\n\u001b[1;32m    368\u001b[0m generic\u001b[39m.\u001b[39mNDFrame\u001b[39m.\u001b[39m\u001b[39m__init__\u001b[39m(\u001b[39mself\u001b[39m, data)\n",
      "File \u001b[0;32m/opt/homebrew/lib/python3.9/site-packages/pandas/core/construction.py:529\u001b[0m, in \u001b[0;36msanitize_array\u001b[0;34m(data, index, dtype, copy, raise_cast_failure)\u001b[0m\n\u001b[1;32m    527\u001b[0m \u001b[39melif\u001b[39;00m subarr\u001b[39m.\u001b[39mndim \u001b[39m>\u001b[39m \u001b[39m1\u001b[39m:\n\u001b[1;32m    528\u001b[0m     \u001b[39mif\u001b[39;00m \u001b[39misinstance\u001b[39m(data, np\u001b[39m.\u001b[39mndarray):\n\u001b[0;32m--> 529\u001b[0m         \u001b[39mraise\u001b[39;00m \u001b[39mValueError\u001b[39;00m(\u001b[39m\"\u001b[39m\u001b[39mData must be 1-dimensional\u001b[39m\u001b[39m\"\u001b[39m)\n\u001b[1;32m    530\u001b[0m     \u001b[39melse\u001b[39;00m:\n\u001b[1;32m    531\u001b[0m         subarr \u001b[39m=\u001b[39m com\u001b[39m.\u001b[39masarray_tuplesafe(data, dtype\u001b[39m=\u001b[39mdtype)\n",
      "\u001b[0;31mValueError\u001b[0m: Data must be 1-dimensional"
     ]
    }
   ],
   "source": [
    "# df_train.to_json()\n",
    "df_new_tain = pd.DataFrame()\n",
    "df_new_tain['label'] = df_train['label']\n",
    "\n",
    "# df_train.apply()\n",
    "\n",
    "pd.Series(df_numpy)\n",
    "\n",
    "\n"
   ]
  },
  {
   "cell_type": "code",
   "execution_count": null,
   "metadata": {},
   "outputs": [],
   "source": []
  }
 ],
 "metadata": {
  "kernelspec": {
   "display_name": "Python 3.9.15 64-bit",
   "language": "python",
   "name": "python3"
  },
  "language_info": {
   "codemirror_mode": {
    "name": "ipython",
    "version": 3
   },
   "file_extension": ".py",
   "mimetype": "text/x-python",
   "name": "python",
   "nbconvert_exporter": "python",
   "pygments_lexer": "ipython3",
   "version": "3.9.15"
  },
  "orig_nbformat": 4,
  "vscode": {
   "interpreter": {
    "hash": "a665b5d41d17b532ea9890333293a1b812fa0b73c9c25c950b3cedf1bebd0438"
   }
  }
 },
 "nbformat": 4,
 "nbformat_minor": 2
}
