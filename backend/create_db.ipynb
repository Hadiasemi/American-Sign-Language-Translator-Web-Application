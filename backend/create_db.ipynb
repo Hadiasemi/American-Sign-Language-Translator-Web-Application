{
 "cells": [
  {
   "cell_type": "code",
   "execution_count": 34,
   "metadata": {},
   "outputs": [],
   "source": [
    "import numpy as np\n",
    "import pandas as pd\n",
    "import matplotlib.pyplot as plt\n",
    "import matplotlib.image as mpimg"
   ]
  },
  {
   "cell_type": "code",
   "execution_count": 35,
   "metadata": {},
   "outputs": [
    {
     "data": {
      "text/plain": [
       "(27455, 785)"
      ]
     },
     "execution_count": 35,
     "metadata": {},
     "output_type": "execute_result"
    }
   ],
   "source": [
    "df_train = pd.read_csv(\"/Users/pranshul/Desktop/American-Sign-Language-Translator-Web-Application/data/sign_mnist_train.csv\")\n",
    "df_test = pd.read_csv(\"/Users/pranshul/Desktop/American-Sign-Language-Translator-Web-Application/data/sign_mnist_test.csv\")\n",
    "df_train.head()\n",
    "df_train.shape"
   ]
  },
  {
   "cell_type": "code",
   "execution_count": 36,
   "metadata": {},
   "outputs": [],
   "source": [
    "import sqlite3\n",
    "\n",
    "#database init\n",
    "connection = sqlite3.connect(\"asl_img.db\")\n",
    "cursor = connection.cursor()\n",
    "cursor.execute('DROP TABLE IF EXISTS ImageTrain')\n",
    "cursor.execute(\"CREATE TABLE ImageTrain (id integer primary key, label int, pics TEXT);\")\n",
    "\n",
    "#dataframe model\n",
    "pixels = df_train.iloc[:,1:].values.tolist()\n",
    "labels = df_train['label'].astype('int')\n",
    "\n",
    "#inserting into database\n",
    "for i in range(len(labels)):\n",
    "    pi = ','.join(map(str, pixels[i]))\n",
    "    cursor.execute(\"INSERT INTO ImageTrain VALUES (?,?,?);\", (i, int(labels[i]) ,pi))\n",
    "connection.commit()\n"
   ]
  },
  {
   "cell_type": "code",
   "execution_count": 37,
   "metadata": {},
   "outputs": [],
   "source": [
    "connection = sqlite3.connect(\"asl_img.db\")\n",
    "cursor = connection.cursor()\n",
    "cursor.execute('DROP TABLE IF EXISTS ImageTest')\n",
    "cursor.execute(\"CREATE TABLE ImageTest (id integer primary key, label int, pics TEXT);\")\n",
    "\n",
    "#dataframe model\n",
    "pixels = df_test.iloc[:,1:].values.tolist()\n",
    "labels = df_test['label'].astype('int')\n",
    "\n",
    "#inserting into database\n",
    "for i in range(len(labels)):\n",
    "    pi = ','.join(map(str, pixels[i]))\n",
    "    cursor.execute(\"INSERT INTO ImageTest VALUES (?,?,?);\", (i, int(labels[i]) ,pi))\n",
    "connection.commit()"
   ]
  },
  {
   "cell_type": "code",
   "execution_count": 38,
   "metadata": {},
   "outputs": [],
   "source": [
    "import json\n",
    "x = cursor.execute(\"select * from ImageTest LIMIT 5\").fetchall()"
   ]
  },
  {
   "cell_type": "code",
   "execution_count": null,
   "metadata": {},
   "outputs": [],
   "source": [
    "pd.DataFrame"
   ]
  },
  {
   "cell_type": "code",
   "execution_count": 41,
   "metadata": {},
   "outputs": [],
   "source": [
    "u = pd.DataFrame( x, columns=[\"Idx\", \"Label\", \"Pics\"])"
   ]
  },
  {
   "cell_type": "code",
   "execution_count": 30,
   "metadata": {},
   "outputs": [],
   "source": [
    "cursor.close()\n"
   ]
  }
 ],
 "metadata": {
  "kernelspec": {
   "display_name": "Python 3.9.15 64-bit",
   "language": "python",
   "name": "python3"
  },
  "language_info": {
   "codemirror_mode": {
    "name": "ipython",
    "version": 3
   },
   "file_extension": ".py",
   "mimetype": "text/x-python",
   "name": "python",
   "nbconvert_exporter": "python",
   "pygments_lexer": "ipython3",
   "version": "3.9.15"
  },
  "vscode": {
   "interpreter": {
    "hash": "a665b5d41d17b532ea9890333293a1b812fa0b73c9c25c950b3cedf1bebd0438"
   }
  }
 },
 "nbformat": 4,
 "nbformat_minor": 2
}
